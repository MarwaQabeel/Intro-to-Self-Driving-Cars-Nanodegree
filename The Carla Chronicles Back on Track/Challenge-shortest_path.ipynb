{
 "cells": [
  {
   "cell_type": "code",
   "execution_count": 1,
   "metadata": {},
   "outputs": [
    {
     "name": "stdout",
     "output_type": "stream",
     "text": [
      "Nice work! Your function passed both test cases.\n"
     ]
    }
   ],
   "source": [
    "# Right now the make_decision function ALWAYS decides to go left.\n",
    "# Modify this function so it behaves appropriately.\n",
    "\n",
    "def make_decision(L1, L2, L3, L4):\n",
    "    if L1 < L3:\n",
    "        return \"R\"\n",
    "    else:\n",
    "        return \"L\"\n",
    "    \n",
    "##########################################################\n",
    "# \n",
    "# The code below is similar to the code that Udacity\n",
    "# will use to test the correctness of your submission.\n",
    "# You don't need to modify it but it may\n",
    "# be helpful to look at for Python syntax help\n",
    "# \n",
    "def test_make_decision():\n",
    "    # start by initializing this to 0\n",
    "    number_correct = 0\n",
    "    \n",
    "    # TEST 1, should return \"R\" since right path has \n",
    "    # length 5 which is < left path with length 8\n",
    "    length_1 = 2\n",
    "    length_2 = 3\n",
    "    length_3 = 4\n",
    "    length_4 = 4\n",
    "    \n",
    "    decision = make_decision(length_1, length_2, length_3, length_4)\n",
    "    \n",
    "    if decision == \"R\":\n",
    "        # Test 1 passes\n",
    "        number_correct = number_correct + 1\n",
    "        \n",
    "    # TEST 2, should return \"L\" since right path still \n",
    "    # has length 5 but left is only 3.\n",
    "    length_3 = 1\n",
    "    length_4 = 2\n",
    "    \n",
    "    decision = make_decision(length_1, length_2, length_3, length_4)\n",
    "    if decision == \"L\":\n",
    "        # Test 2 passes\n",
    "        number_correct = number_correct + 1\n",
    "    \n",
    "    if number_correct == 2:\n",
    "        all_correct = True\n",
    "    else:\n",
    "        all_correct = False\n",
    "    \n",
    "    return all_correct\n",
    "    \n",
    "if test_make_decision():\n",
    "    print(\"Nice work! Your function passed both test cases.\")\n",
    "else:\n",
    "    print(\"Not quite. Your function didn't pass both test cases.\")\n",
    "    "
   ]
  }
 ],
 "metadata": {
  "kernelspec": {
   "display_name": "Python 3",
   "language": "python",
   "name": "python3"
  },
  "language_info": {
   "codemirror_mode": {
    "name": "ipython",
    "version": 3
   },
   "file_extension": ".py",
   "mimetype": "text/x-python",
   "name": "python",
   "nbconvert_exporter": "python",
   "pygments_lexer": "ipython3",
   "version": "3.6.9"
  }
 },
 "nbformat": 4,
 "nbformat_minor": 4
}
